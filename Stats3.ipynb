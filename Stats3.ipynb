{
 "cells": [
  {
   "cell_type": "code",
   "execution_count": 3,
   "metadata": {
    "collapsed": true
   },
   "outputs": [],
   "source": [
    "import math"
   ]
  },
  {
   "cell_type": "markdown",
   "metadata": {},
   "source": [
    "## Problem Statement 1:"
   ]
  },
  {
   "cell_type": "markdown",
   "metadata": {},
   "source": [
    "### Blood glucose levels for obese patients have a mean of 100 with a standard deviation of 15. A researcher thinks that a diet high in raw cornstarch will have a positive effect on blood glucose levels. A sample of 36 patients who have tried the raw cornstarch diet have a mean glucose level of 108. Test the hypothesis that the raw cornstarch had an effect or not."
   ]
  },
  {
   "cell_type": "code",
   "execution_count": 4,
   "metadata": {
    "collapsed": true
   },
   "outputs": [],
   "source": [
    "no_of_sample = 36\n",
    "sample_mean = 108\n",
    "population_mean = 100\n",
    "population_sigma  = 15"
   ]
  },
  {
   "cell_type": "code",
   "execution_count": 5,
   "metadata": {},
   "outputs": [
    {
     "name": "stdout",
     "output_type": "stream",
     "text": [
      "Z Score : 3.2\n"
     ]
    }
   ],
   "source": [
    "#Step-1: State the hypotheses. The population mean is 100.\n",
    "# H0:μ=100 ==> null hypothesis\n",
    "# H1:≠100  ==> Research hypothesis / Alternate hypothesis\n",
    "\n",
    "#Step-2:Set up the significance level. It is not given in the problem so let’s assume it as 5% (0.05).\n",
    "\n",
    "# This 5% is called Significance Level also known as alpha level (symbolized as α). \n",
    "#It means that if random chance probability is less than 5% then we can conclude that there is difference in \n",
    "#behavior of two different population. \n",
    "#(1- Significance level) is also known as Confidence Level \n",
    "#i.e. we can say that I am 95% confident that it is not driven by randomness.\n",
    "\n",
    "\n",
    "#step-3 : Claculate Z Score\n",
    "z = (sample_mean - population_mean) / (population_sigma /math.sqrt(no_of_sample))\n",
    "print(\"Z Score :\",z)\n",
    "\n",
    "# by looking at z- table and p-value associated with 3.20 is 0.9993 \n",
    "# The probability of having value less than 108 is 0.9993 and more than or equals to 108 is (1-0.9993)=0.0007.\n",
    "\n",
    "#Step-4: Sice the probability of having mean glucose level more than or equals to 108  is 0.0007 which is  less than 0.05 \n",
    "#so we will reject the Null hypothesis i.e. there is raw cornstarch effect."
   ]
  },
  {
   "cell_type": "markdown",
   "metadata": {},
   "source": [
    "## Problem Statement 2:"
   ]
  },
  {
   "cell_type": "markdown",
   "metadata": {},
   "source": [
    "### In one state, 52% of the voters are Republicans, and 48% are Democrats. In a second state, 47% of the voters are Republicans, and 53% are Democrats. Suppose a simple random sample of 100 voters are surveyed from each state. What is the probability that the survey will show a greater percentage of Republican voters in the second state than in the first state?"
   ]
  },
  {
   "cell_type": "code",
   "execution_count": 6,
   "metadata": {},
   "outputs": [
    {
     "name": "stdout",
     "output_type": "stream",
     "text": [
      "Mu :  0.050000000000000044 Std :  0.07061869440877536\n",
      "Z_score(p1,p2) :  -0.7080278164104213\n"
     ]
    }
   ],
   "source": [
    "#let :-\n",
    "#P1 = the proportion of Republican voters in the first state\n",
    "#P2 = the proportion of Republican voters in the second state\n",
    "#p1 = the proportion of Republican voters in the sample from the first state\n",
    "#p2 = the proportion of Republican voters in the sample from the second state. \n",
    "\n",
    "#The number of voters sampled from the first state (n1) = 100\n",
    "n1 = 100\n",
    "#The number of voters sampled from the second state (n2) = 100.\n",
    "n2 = 100\n",
    "\n",
    "P1 = 0.52\n",
    "#(1 - P1) = Q1\n",
    "Q1 = 0.48\n",
    "P2 = 0.47\n",
    "#(1 - P2) = Q2\n",
    "Q2 = 0.53\n",
    "\n",
    "\n",
    "#The mean of the difference in sample proportions .i.e Expected Value E[p1 -p2] = P1 - P2 = mu\n",
    "mu =  P1 - P2\n",
    "\n",
    "#The standard deviation of the difference (std)\n",
    "std = math.sqrt(((P1 * Q1 ) / n1) + ((P2 * Q2) /n2))\n",
    "print(\"Mu : \",mu,\"Std : \",std)\n",
    "\n",
    "#This problem requires us to find the probability that p1 is less than p2. \n",
    "#This is equivalent to finding the probability that p1 - p2 < 0. \n",
    "x = 0\n",
    "#To find this probability, we need to transform the random variable (p1 - p2) into a z-score. \n",
    "#That transformation appears below.\n",
    "Z_p1_p2 = ( x - mu)/std\n",
    "\n",
    "print(\"Z_score(p1,p2) : \",Z_p1_p2)\n",
    "\n",
    "#From Z table we find that the probability of a z-score being -0.7082 or less is 0.24.\n",
    "\n",
    "#Therefore, the probability that the survey will show a greater percentage of Republican voters \n",
    "#in the second state than in the first state is 0.24.\n"
   ]
  },
  {
   "cell_type": "markdown",
   "metadata": {},
   "source": [
    "## Problem Statement 3:"
   ]
  },
  {
   "cell_type": "markdown",
   "metadata": {},
   "source": [
    "### You take the SAT and score 1100. The mean score for the SAT is 1026 and the standard deviation is 209. How well did you score on the test compared to the average test taker?"
   ]
  },
  {
   "cell_type": "code",
   "execution_count": 7,
   "metadata": {},
   "outputs": [
    {
     "name": "stdout",
     "output_type": "stream",
     "text": [
      "Z Score :  0.35406698564593303\n",
      "My Score is in the range 817 - 1235  with a  zscore 0.35\n"
     ]
    }
   ],
   "source": [
    "#The z score tells you how many standard deviations from the mean your score is\n",
    "x = 1100 #\n",
    "mu = 1026 # Population Mean\n",
    "sd = 209 #population standard deviation\n",
    "z = ( x - mu)/sd\n",
    "print(\"Z Score : \",z)\n",
    "#the above calculation shows that my score is 0.35 standard deviations above the mean\n",
    "print(\"My Score is in the range {} - {}  with a  zscore {:.2f}\".format(mu - sd,mu + sd,z))"
   ]
  },
  {
   "cell_type": "code",
   "execution_count": null,
   "metadata": {
    "collapsed": true
   },
   "outputs": [],
   "source": []
  }
 ],
 "metadata": {
  "kernelspec": {
   "display_name": "Python 3",
   "language": "python",
   "name": "python3"
  },
  "language_info": {
   "codemirror_mode": {
    "name": "ipython",
    "version": 3
   },
   "file_extension": ".py",
   "mimetype": "text/x-python",
   "name": "python",
   "nbconvert_exporter": "python",
   "pygments_lexer": "ipython3",
   "version": "3.6.3"
  }
 },
 "nbformat": 4,
 "nbformat_minor": 2
}
